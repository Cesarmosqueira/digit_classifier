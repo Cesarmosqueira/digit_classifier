{
 "cells": [
  {
   "cell_type": "code",
   "execution_count": 1,
   "id": "69458017",
   "metadata": {},
   "outputs": [],
   "source": [
    "import matplotlib.pyplot as plt\n",
    "import numpy as np\n",
    "from numpy.random import randint\n",
    "from tensorflow.keras.utils import to_categorical\n",
    "%matplotlib inline"
   ]
  },
  {
   "cell_type": "code",
   "execution_count": 2,
   "id": "0ef886ca",
   "metadata": {},
   "outputs": [],
   "source": [
    "from tensorflow.keras.datasets import mnist\n",
    "(digits, LUT), (digits_Test, LUT_Test) = mnist.load_data()"
   ]
  },
  {
   "cell_type": "code",
   "execution_count": 3,
   "id": "ea78ab4b",
   "metadata": {},
   "outputs": [],
   "source": [
    "#clean img\n",
    "digits = digits/255\n",
    "digits = digits.reshape(digits.shape[0], 28, 28, 1)\n",
    "\n",
    "digits_Test = digits_Test/255\n",
    "digits_Test = digits_Test.reshape(digits_Test.shape[0], 28, 28, 1)"
   ]
  },
  {
   "cell_type": "code",
   "execution_count": 4,
   "id": "a48abb8f",
   "metadata": {},
   "outputs": [
    {
     "data": {
      "image/png": "[encoded data removed]",
      "text/plain": [
       "<Figure size 1152x360 with 14 Axes>"
      ]
     },
     "metadata": {
      "needs_background": "light"
     },
     "output_type": "display_data"
    }
   ],
   "source": [
    "fig = plt.figure(figsize=(16,5))\n",
    "fig.suptitle('Training sample', fontsize=25, fontweight='bold')\n",
    "\n",
    "for i in range(14):\n",
    "    idx = randint(0, len(digits)-1)\n",
    "    plt.subplot(2,7,i+1)\n",
    "    plt.title(f'Num: {LUT[idx]}, Pos: {idx}')\n",
    "    plt.imshow(digits[idx], cmap='Greys')\n",
    "    plt.axis('off')\n",
    "plt.show()"
   ]
  },
  {
   "cell_type": "code",
   "execution_count": 5,
   "id": "7755572a",
   "metadata": {},
   "outputs": [],
   "source": [
    "# convertir cada entero en listas de ceros y unos donde la posicion donde haya\n",
    "# un numero 1, es el numero que representa la lista.\n",
    "# Esto para usar dicha lista como el desired output de la red\n",
    "LUT = to_categorical(LUT, 10)\n",
    "LUT_Test = to_categorical(LUT_Test, 10)"
   ]
  },
  {
   "cell_type": "code",
   "execution_count": 9,
   "id": "f1031232",
   "metadata": {},
   "outputs": [
    {
     "data": {
      "text/plain": [
       "(60000, 10)"
      ]
     },
     "execution_count": 9,
     "metadata": {},
     "output_type": "execute_result"
    }
   ],
   "source": [
    "LUT.shape"
   ]
  },
  {
   "cell_type": "code",
   "execution_count": 6,
   "id": "6fdbdd54",
   "metadata": {},
   "outputs": [],
   "source": [
    "from tensorflow.keras.models import Sequential\n",
    "from tensorflow.keras.layers import Dense, Dropout, Flatten, Conv2D, MaxPooling2D\n",
    "\n",
    "model = Sequential()\n",
    "model.add(Conv2D(32, kernel_size=(3, 3),\n",
    "     activation='relu',\n",
    "     input_shape=(28, 28, 1)))\n",
    "\n",
    "model.add(Conv2D(64, (3, 3), activation='relu'))\n",
    "model.add(MaxPooling2D(pool_size=(2, 2)))\n",
    "model.add(Dropout(0.25))\n",
    "model.add(Flatten())\n",
    "model.add(Dense(128, activation='relu'))\n",
    "model.add(Dropout(0.5))\n",
    "model.add(Dense(10, activation='softmax'))"
   ]
  },
  {
   "cell_type": "code",
   "execution_count": 7,
   "id": "3474a3b2",
   "metadata": {},
   "outputs": [],
   "source": [
    "model.compile(loss='categorical_crossentropy',\n",
    "      optimizer='adam',\n",
    "      metrics=['accuracy'])"
   ]
  },
  {
   "cell_type": "code",
   "execution_count": 8,
   "id": "d0ec625a",
   "metadata": {},
   "outputs": [
    {
     "data": {
      "text/plain": [
       "(60000, 28, 28, 1)"
      ]
     },
     "execution_count": 8,
     "metadata": {},
     "output_type": "execute_result"
    }
   ],
   "source": [
    "digits.shape"
   ]
  },
  {
   "cell_type": "code",
   "execution_count": 9,
   "id": "d7bb4ea0",
   "metadata": {
    "scrolled": false
   },
   "outputs": [
    {
     "name": "stdout",
     "output_type": "stream",
     "text": [
      "Epoch 1/10\n",
      "469/469 [==============================] - 30s 64ms/step - loss: 0.2468 - accuracy: 0.9252 - val_loss: 0.0533 - val_accuracy: 0.9833\n",
      "Epoch 2/10\n",
      "469/469 [==============================] - 33s 70ms/step - loss: 0.0855 - accuracy: 0.9742 - val_loss: 0.0369 - val_accuracy: 0.9874\n",
      "Epoch 3/10\n",
      "469/469 [==============================] - 33s 70ms/step - loss: 0.0625 - accuracy: 0.9811 - val_loss: 0.0340 - val_accuracy: 0.9890\n",
      "Epoch 4/10\n",
      "469/469 [==============================] - 32s 69ms/step - loss: 0.0522 - accuracy: 0.9840 - val_loss: 0.0305 - val_accuracy: 0.9908\n",
      "Epoch 5/10\n",
      "469/469 [==============================] - 32s 69ms/step - loss: 0.0473 - accuracy: 0.9857 - val_loss: 0.0280 - val_accuracy: 0.9909\n",
      "Epoch 6/10\n",
      "469/469 [==============================] - 32s 69ms/step - loss: 0.0404 - accuracy: 0.9879 - val_loss: 0.0333 - val_accuracy: 0.9902\n",
      "Epoch 7/10\n",
      "469/469 [==============================] - 32s 67ms/step - loss: 0.0367 - accuracy: 0.9885 - val_loss: 0.0303 - val_accuracy: 0.9916\n",
      "Epoch 8/10\n",
      "469/469 [==============================] - 31s 67ms/step - loss: 0.0335 - accuracy: 0.9892 - val_loss: 0.0283 - val_accuracy: 0.9912\n",
      "Epoch 9/10\n",
      "469/469 [==============================] - 33s 70ms/step - loss: 0.0299 - accuracy: 0.9901 - val_loss: 0.0296 - val_accuracy: 0.9913\n",
      "Epoch 10/10\n",
      "469/469 [==============================] - 33s 70ms/step - loss: 0.0263 - accuracy: 0.9915 - val_loss: 0.0278 - val_accuracy: 0.9915\n",
      "Loss: 0.027818692848086357\n",
      "Accuracy: 0.9915000200271606\n"
     ]
    }
   ],
   "source": [
    "batch_size = 128\n",
    "epochs = 10\n",
    "\n",
    "model.fit(digits, LUT,\n",
    "          batch_size=batch_size,\n",
    "          epochs=epochs,\n",
    "          verbose=1,\n",
    "          validation_data=(digits_Test, LUT_Test))\n",
    "\n",
    "score = model.evaluate(digits_Test, LUT_Test, verbose=0)\n",
    "\n",
    "print('Loss:', score[0])\n",
    "print('Accuracy:', score[1])\n",
    "model.save(\"DigitRecognizer.h5\")"
   ]
  },
  {
   "cell_type": "code",
   "execution_count": 42,
   "id": "14429274",
   "metadata": {},
   "outputs": [],
   "source": [
    "r = randint(0, len(digits_Test)-1)\n",
    "tval = digits_Test[r]\n",
    "tval = tval.reshape(1,28,28,1)"
   ]
  },
  {
   "cell_type": "code",
   "execution_count": 43,
   "id": "4df6023f",
   "metadata": {},
   "outputs": [
    {
     "data": {
      "text/plain": [
       "<matplotlib.image.AxesImage at 0x7fe270173190>"
      ]
     },
     "execution_count": 43,
     "metadata": {},
     "output_type": "execute_result"
    },
    {
     "data": {
      "image/png": "[encoded data removed]",
      "text/plain": [
       "<Figure size 432x288 with 1 Axes>"
      ]
     },
     "metadata": {
      "needs_background": "light"
     },
     "output_type": "display_data"
    }
   ],
   "source": [
    "plt.imshow(-tval[0], cmap='gray')"
   ]
  },
  {
   "cell_type": "code",
   "execution_count": 44,
   "id": "84997edc",
   "metadata": {},
   "outputs": [
    {
     "data": {
      "text/plain": [
       "6"
      ]
     },
     "execution_count": 44,
     "metadata": {},
     "output_type": "execute_result"
    }
   ],
   "source": [
    "model.predict(tval).argmax()"
   ]
  },
  {
   "cell_type": "code",
   "execution_count": null,
   "id": "a08984e6",
   "metadata": {},
   "outputs": [],
   "source": [
    "tt"
   ]
  }
 ],
 "metadata": {
  "kernelspec": {
   "display_name": "Python 3",
   "language": "python",
   "name": "python3"
  },
  "language_info": {
   "codemirror_mode": {
    "name": "ipython",
    "version": 3
   },
   "file_extension": ".py",
   "mimetype": "text/x-python",
   "name": "python",
   "nbconvert_exporter": "python",
   "pygments_lexer": "ipython3",
   "version": "3.9.5"
  }
 },
 "nbformat": 4,
 "nbformat_minor": 5
}
